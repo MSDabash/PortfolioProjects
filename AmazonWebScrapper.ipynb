{
 "cells": [
  {
   "cell_type": "code",
   "execution_count": 1,
   "metadata": {},
   "outputs": [],
   "source": [
    "# import libraries \n",
    "\n",
    "from bs4 import BeautifulSoup\n",
    "import requests\n",
    "import time\n",
    "import datetime\n",
    "\n",
    "import smtplib # sends emails"
   ]
  },
  {
   "cell_type": "code",
   "execution_count": 2,
   "metadata": {},
   "outputs": [
    {
     "name": "stdout",
     "output_type": "stream",
     "text": [
      "\n",
      "            TREATLIFE Smart Bulb 1 Pack, Music Sync Color Changing Light Bulb, Works with Alexa, Google Assistant, LED Dimmable Smart Light Bulbs for Party Decoration, Smart Home Lighting, No Hub Required\n",
      "           \n",
      "\n",
      "\n",
      "\n",
      "\n",
      "\n",
      "\n",
      "             $13.99\n",
      "            \n",
      "\n",
      "\n",
      "              $\n",
      "             \n",
      "\n",
      "              13\n",
      "              \n",
      "               .\n",
      "              \n",
      "\n",
      "\n",
      "              99\n",
      "             \n",
      "\n",
      "\n",
      "\n",
      "\n",
      "\n",
      "\n",
      "\n",
      "\n",
      "\n",
      "\n",
      "\n",
      "\n",
      "\n",
      "\n",
      "\n",
      "\n",
      "\n",
      "\n",
      "\n",
      "\n",
      "\n",
      "\n",
      "\n",
      "\n",
      "\n",
      "\n",
      "\n",
      "           Get\n",
      "           \n",
      "            Fast, Free Shipping\n",
      "           \n",
      "           with\n",
      "           \n",
      "            Amazon Prime\n",
      "           \n",
      "\n",
      "\n",
      "\n",
      "\n",
      "\n",
      "\n",
      "\n",
      "            &\n",
      "           \n",
      "\n",
      "\n",
      "\n",
      "\n",
      "               FREE Returns\n",
      "               \n",
      "\n",
      "\n",
      "\n",
      "\n",
      "\n",
      "\n",
      "\n",
      "               Return this item for free\n",
      "              \n",
      "\n",
      "\n",
      "\n",
      "                 Free returns are available for the shipping address you chose. You can return the item for any reason in new and unused condition: no shipping charges\n",
      "                \n",
      "\n",
      "\n",
      "\n",
      "\n",
      "                  Learn more about free returns.\n",
      "                 \n",
      "\n",
      "\n",
      "\n",
      "\n",
      "\n",
      "\n",
      "\n",
      "\n",
      "                 How to return the item?\n",
      "                \n",
      "\n",
      "\n",
      "\n",
      "\n",
      "\n",
      "                   Go to your orders and start the return\n",
      "                  \n",
      "\n",
      "\n",
      "\n",
      "                   Select the return method\n",
      "                  \n",
      "\n",
      "\n",
      "\n",
      "                   Ship it!\n",
      "                  \n",
      "\n",
      "\n",
      "\n",
      "\n",
      "\n",
      "\n",
      "\n",
      "\n",
      "\n",
      "\n",
      "\n",
      "\n",
      "\n",
      "\n",
      "\n",
      "\n",
      "\n",
      "\n",
      "\n",
      "\n",
      "\n",
      "\n",
      "\n",
      "\n",
      "\n",
      "\n",
      "\n",
      "\n",
      "\n",
      "\n",
      "\n",
      "\n",
      "\n",
      "\n",
      "\n",
      "\n",
      "\n",
      "\n",
      "\n",
      "\n",
      "\n",
      "\n",
      "\n",
      "\n",
      "\n",
      "\n",
      "\n",
      "\n",
      "\n",
      "\n",
      "\n"
     ]
    }
   ],
   "source": [
    "# Connect to Website and pull in data\n",
    "\n",
    "URL = 'https://www.amazon.com/TREATLIFE-Changing-Dimmable-Decoration-Lighting/dp/B0839GWV8X/ref=amzdv_cabsh_dp_sccl_2_3/131-6045021-8234619?pd_rd_w=VKs8b&content-id=amzn1.sym.3eba588a-eb98-4bbd-9987-4f655f7221ac&pf_rd_p=3eba588a-eb98-4bbd-9987-4f655f7221ac&pf_rd_r=J77DWEETN5SQKXPG007P&pd_rd_wg=7nl3A&pd_rd_r=52984bb8-c341-4b60-a60f-4eadee46400c&pd_rd_i=B083BRRZ4Y&th=1'\n",
    "\n",
    "headers = {\"User-Agent\": \"Mozilla/5.0 (Windows NT 10.0; Win64; x64) AppleWebKit/537.36 (KHTML, like Gecko) Chrome/103.0.0.0 Safari/537.36\", \"Accept-Encoding\":\"gzip, deflate\", \"Accept\":\"text/html,application/xhtml+xml,application/xml;q=0.9,*/*;q=0.8\", \"DNT\":\"1\",\"Connection\":\"close\", \"Upgrade-Insecure-Requests\":\"1\"}\n",
    "\n",
    "page = requests.get(URL, headers=headers)\n",
    "\n",
    "soup1 = BeautifulSoup(page.content, 'html.parser')\n",
    "\n",
    "soup2 = BeautifulSoup(soup1.prettify(), 'html.parser')\n",
    "\n",
    "title = soup2.find(id='productTitle').get_text()\n",
    "\n",
    "price = soup2.find(id='apex_desktop').get_text()\n",
    "\n",
    "print(title)\n",
    "\n",
    "print(price)\n",
    "\n"
   ]
  },
  {
   "cell_type": "code",
   "execution_count": 3,
   "metadata": {},
   "outputs": [
    {
     "name": "stdout",
     "output_type": "stream",
     "text": [
      "TREATLIFE Smart Bulb 1 Pack, Music Sync Color Changing Light Bulb, Works with Alexa, Google Assistant, LED Dimmable Smart Light Bulbs for Party Decoration, Smart Home Lighting, No Hub Required\n",
      "13.9\n"
     ]
    },
    {
     "data": {
      "text/plain": [
       "str"
      ]
     },
     "execution_count": 3,
     "metadata": {},
     "output_type": "execute_result"
    }
   ],
   "source": [
    "# Clean up the data a little bit\n",
    "\n",
    "title = title.strip()\n",
    "price = price.strip()[1:5]\n",
    "\n",
    "print(title)\n",
    "print(price)\n",
    "type(price)"
   ]
  },
  {
   "cell_type": "code",
   "execution_count": 4,
   "metadata": {},
   "outputs": [
    {
     "name": "stdout",
     "output_type": "stream",
     "text": [
      "2022-07-14\n"
     ]
    }
   ],
   "source": [
    "# Create a Timestamp for the output to track when data was collected\n",
    "\n",
    "import datetime\n",
    "\n",
    "today = datetime.date.today()\n",
    "\n",
    "print(today)"
   ]
  },
  {
   "cell_type": "code",
   "execution_count": 5,
   "metadata": {},
   "outputs": [],
   "source": [
    "# Create CSV and write headers and data into the file\n",
    "\n",
    "import csv \n",
    "\n",
    "header = ['Title', 'Price', 'Date']\n",
    "data = [title, price, today]\n",
    "type(data)\n",
    "\n",
    "with open('AmazonWebScraper.csv', 'w', newline='', encoding='UTF8') as f:\n",
    "    writer = csv.writer(f)\n",
    "    writer.writerow(header)\n",
    "    writer.writerow(data)"
   ]
  },
  {
   "cell_type": "code",
   "execution_count": 6,
   "metadata": {},
   "outputs": [
    {
     "name": "stdout",
     "output_type": "stream",
     "text": [
      "                                               Title  Price        Date\n",
      "0  TREATLIFE Smart Bulb 1 Pack, Music Sync Color ...   13.9  2022-07-14\n",
      "1  TREATLIFE Smart Bulb 1 Pack, Music Sync Color ...   13.9  2022-07-14\n"
     ]
    }
   ],
   "source": [
    "import pandas as pd\n",
    "\n",
    "df = pd.read_csv(r\"C:\\Users\\mohms\\OneDrive\\Desktop\\Resumeprojects\\AmazonWebScraper\\AmazonWebScraper.csv\")\n",
    "\n",
    "print(df)"
   ]
  },
  {
   "cell_type": "code",
   "execution_count": 7,
   "metadata": {},
   "outputs": [],
   "source": [
    "#Now we are appending data to the csv\n",
    "\n",
    "with open('AmazonWebScraper.csv', 'a+', newline='', encoding='UTF8') as f:\n",
    "    writer = csv.writer(f)\n",
    "    writer.writerow(data)"
   ]
  },
  {
   "cell_type": "code",
   "execution_count": 22,
   "metadata": {},
   "outputs": [
    {
     "data": {
      "text/plain": [
       "function"
      ]
     },
     "execution_count": 22,
     "metadata": {},
     "output_type": "execute_result"
    }
   ],
   "source": [
    "#Combine all of the above code into one function\n",
    "\n",
    "\n",
    "def check_price():\n",
    "    URL = 'https://www.amazon.com/TREATLIFE-Changing-Dimmable-Decoration-Lighting/dp/B0839GWV8X/ref=amzdv_cabsh_dp_sccl_2_3/131-6045021-8234619?pd_rd_w=VKs8b&content-id=amzn1.sym.3eba588a-eb98-4bbd-9987-4f655f7221ac&pf_rd_p=3eba588a-eb98-4bbd-9987-4f655f7221ac&pf_rd_r=J77DWEETN5SQKXPG007P&pd_rd_wg=7nl3A&pd_rd_r=52984bb8-c341-4b60-a60f-4eadee46400c&pd_rd_i=B083BRRZ4Y&th=1'\n",
    "\n",
    "    headers = {\"User-Agent\": \"Mozilla/5.0 (Windows NT 10.0; Win64; x64) AppleWebKit/537.36 (KHTML, like Gecko) Chrome/103.0.0.0 Safari/537.36\", \"Accept-Encoding\":\"gzip, deflate\", \"Accept\":\"text/html,application/xhtml+xml,application/xml;q=0.9,*/*;q=0.8\", \"DNT\":\"1\",\"Connection\":\"close\", \"Upgrade-Insecure-Requests\":\"1\"}\n",
    "\n",
    "    page = requests.get(URL, headers=headers)\n",
    "\n",
    "    soup1 = BeautifulSoup(page.content, \"html.parser\")\n",
    "\n",
    "    soup2 = BeautifulSoup(soup1.prettify(), \"html.parser\")\n",
    "\n",
    "    title = soup2.find(id='productTitle').get_text()\n",
    "\n",
    "    price = soup2.find(id='apex_desktop').get_text()\n",
    "\n",
    "    price = price.strip()[1:5]\n",
    "    title = title.strip()\n",
    "\n",
    "    import datetime\n",
    "\n",
    "    today = datetime.date.today()\n",
    "    \n",
    "    import csv \n",
    "\n",
    "    header = ['Title', 'Price', 'Date']\n",
    "    data = [title, price, today]\n",
    "\n",
    "    with open('AmazonWebScraper.csv', 'a+', newline='', encoding='UTF8') as f:\n",
    "        writer = csv.writer(f)\n",
    "        writer.writerow(data)\n",
    "        \n",
    " "
   ]
  },
  {
   "cell_type": "code",
   "execution_count": null,
   "metadata": {},
   "outputs": [],
   "source": [
    "# Runs check_price after a set time and inputs data into the CSV file\n",
    "\n",
    "while(True):\n",
    "    str(check_price())\n",
    "    time.sleep(86400)"
   ]
  },
  {
   "cell_type": "code",
   "execution_count": null,
   "metadata": {},
   "outputs": [],
   "source": [
    "\n",
    "import pandas as pd\n",
    "\n",
    "df = pd.read_csv(r'C:\\Users\\mohms\\OneDrive\\Desktop\\Resumeprojects\\AmazonWebScraper\\AmazonWebScraper.csv')\n",
    "\n",
    "print(df)"
   ]
  },
  {
   "cell_type": "code",
   "execution_count": null,
   "metadata": {},
   "outputs": [],
   "source": [
    "\n",
    "# send en email when price drops below a set price\n",
    "\n",
    "def send_mail():\n",
    "    server = smtplib.SMTP_SSL('smtp.gmail.com',465)\n",
    "    server.ehlo()\n",
    "    #server.starttls()\n",
    "    server.ehlo()\n",
    "    server.login('moh.msd92@gmail.com','xxxxxxxxxxxxxx')\n",
    "    \n",
    "    subject = \"The item you want is below $10! Now is your chance to buy!\"\n",
    "    body = \"Link here: https://www.amazon.com/TREATLIFE-Changing-Dimmable-Decoration-Lighting/dp/B0839GWV8X/ref=amzdv_cabsh_dp_sccl_2_3/131-6045021-8234619?pd_rd_w=VKs8b&content-id=amzn1.sym.3eba588a-eb98-4bbd-9987-4f655f7221ac&pf_rd_p=3eba588a-eb98-4bbd-9987-4f655f7221ac&pf_rd_r=J77DWEETN5SQKXPG007P&pd_rd_wg=7nl3A&pd_rd_r=52984bb8-c341-4b60-a60f-4eadee46400c&pd_rd_i=B083BRRZ4Y&th=1\"\n",
    "\"\n",
    "   \n",
    "    msg = f\"Subject: {subject}\\n\\n{body}\"\n",
    "    \n",
    "    server.sendmail(\n",
    "        'moh.msd92@gmail.com',\n",
    "        msg\n",
    "     \n",
    "    )"
   ]
  }
 ],
 "metadata": {
  "kernelspec": {
   "display_name": "Python 3",
   "language": "python",
   "name": "python3"
  },
  "language_info": {
   "codemirror_mode": {
    "name": "ipython",
    "version": 3
   },
   "file_extension": ".py",
   "mimetype": "text/x-python",
   "name": "python",
   "nbconvert_exporter": "python",
   "pygments_lexer": "ipython3",
   "version": "3.8.8"
  }
 },
 "nbformat": 4,
 "nbformat_minor": 4
}
