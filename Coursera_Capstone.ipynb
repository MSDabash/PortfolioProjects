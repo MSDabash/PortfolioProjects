{
 "cells": [
  {
   "cell_type": "markdown",
   "metadata": {},
   "source": [
    "# My Jupyter Notebook on IBM Watson Studio"
   ]
  },
  {
   "cell_type": "markdown",
   "metadata": {},
   "source": [
    "<b> Mohammad Dabash</b>"
   ]
  },
  {
   "cell_type": "markdown",
   "metadata": {},
   "source": [
    "<i> I am interested in data science because i enjoy telling stories with data </i>"
   ]
  },
  {
   "cell_type": "markdown",
   "metadata": {},
   "source": [
    "### The code in Cell 5 will print my first and last name and calculate my age from my birthday"
   ]
  },
  {
   "cell_type": "code",
   "execution_count": 11,
   "metadata": {},
   "outputs": [
    {
     "name": "stdout",
     "output_type": "stream",
     "text": [
      "Mohammad Dabash 29\n"
     ]
    }
   ],
   "source": [
    "from datetime import datetime\n",
    "\n",
    "first_name = 'Mohammad'\n",
    "last_name = 'Dabash'\n",
    "# date of birth\n",
    "birth = datetime.strptime(\"09-Nov-92\", \"%d-%b-%y\")\n",
    "\n",
    "# current time\n",
    "now = datetime.now()\n",
    "age = int((now - birth).days/365)\n",
    "\n",
    "print(first_name+' '+ last_name +' '+ str(age))"
   ]
  },
  {
   "cell_type": "markdown",
   "metadata": {},
   "source": [
    "* One\n",
    "* Two\n",
    "* Three\n",
    "* Four\n",
    "* Five\n",
    "* Six\n",
    "\n",
    "[YouTube](https://youtube.com)\n",
    "\n",
    "| First_Name | Last_Name | Age |\n",
    "| --- | --- | --- |\n",
    "| Mohammad | Dabash | 29 |\n"
   ]
  }
 ],
 "metadata": {
  "kernelspec": {
   "display_name": "Python 3",
   "language": "python",
   "name": "python3"
  },
  "language_info": {
   "codemirror_mode": {
    "name": "ipython",
    "version": 3
   },
   "file_extension": ".py",
   "mimetype": "text/x-python",
   "name": "python",
   "nbconvert_exporter": "python",
   "pygments_lexer": "ipython3",
   "version": "3.8.8"
  }
 },
 "nbformat": 4,
 "nbformat_minor": 4
}
